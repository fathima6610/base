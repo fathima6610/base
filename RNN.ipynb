{
  "nbformat": 4,
  "nbformat_minor": 0,
  "metadata": {
    "colab": {
      "provenance": [],
      "authorship_tag": "ABX9TyMNvZxWyCcrOIyu0oSHu+1M",
      "include_colab_link": true
    },
    "kernelspec": {
      "name": "python3",
      "display_name": "Python 3"
    },
    "language_info": {
      "name": "python"
    }
  },
  "cells": [
    {
      "cell_type": "markdown",
      "metadata": {
        "id": "view-in-github",
        "colab_type": "text"
      },
      "source": [
        "<a href=\"https://colab.research.google.com/github/fathima6610/base/blob/main/RNN.ipynb\" target=\"_parent\"><img src=\"https://colab.research.google.com/assets/colab-badge.svg\" alt=\"Open In Colab\"/></a>"
      ]
    },
    {
      "cell_type": "code",
      "execution_count": 1,
      "metadata": {
        "colab": {
          "base_uri": "https://localhost:8080/"
        },
        "id": "vrJQ-ICfQtTk",
        "outputId": "58db3e0c-fcd2-40e9-bbaf-89fe2f0019d2"
      },
      "outputs": [
        {
          "output_type": "stream",
          "name": "stdout",
          "text": [
            "Epoch 1/50\n",
            "1/1 - 4s - loss: 2.4875 - accuracy: 0.1000 - 4s/epoch - 4s/step\n",
            "Epoch 2/50\n",
            "1/1 - 0s - loss: 2.3953 - accuracy: 0.3000 - 15ms/epoch - 15ms/step\n",
            "Epoch 3/50\n",
            "1/1 - 0s - loss: 2.3079 - accuracy: 0.3000 - 15ms/epoch - 15ms/step\n",
            "Epoch 4/50\n",
            "1/1 - 0s - loss: 2.2226 - accuracy: 0.3000 - 15ms/epoch - 15ms/step\n",
            "Epoch 5/50\n",
            "1/1 - 0s - loss: 2.1390 - accuracy: 0.3000 - 14ms/epoch - 14ms/step\n",
            "Epoch 6/50\n",
            "1/1 - 0s - loss: 2.0581 - accuracy: 0.3000 - 14ms/epoch - 14ms/step\n",
            "Epoch 7/50\n",
            "1/1 - 0s - loss: 1.9813 - accuracy: 0.3000 - 14ms/epoch - 14ms/step\n",
            "Epoch 8/50\n",
            "1/1 - 0s - loss: 1.9088 - accuracy: 0.3000 - 20ms/epoch - 20ms/step\n",
            "Epoch 9/50\n",
            "1/1 - 0s - loss: 1.8377 - accuracy: 0.3000 - 23ms/epoch - 23ms/step\n",
            "Epoch 10/50\n",
            "1/1 - 0s - loss: 1.7642 - accuracy: 0.4000 - 17ms/epoch - 17ms/step\n",
            "Epoch 11/50\n",
            "1/1 - 0s - loss: 1.6877 - accuracy: 0.4000 - 17ms/epoch - 17ms/step\n",
            "Epoch 12/50\n",
            "1/1 - 0s - loss: 1.6115 - accuracy: 0.4000 - 14ms/epoch - 14ms/step\n",
            "Epoch 13/50\n",
            "1/1 - 0s - loss: 1.5409 - accuracy: 0.4000 - 14ms/epoch - 14ms/step\n",
            "Epoch 14/50\n",
            "1/1 - 0s - loss: 1.4800 - accuracy: 0.4000 - 18ms/epoch - 18ms/step\n",
            "Epoch 15/50\n",
            "1/1 - 0s - loss: 1.4290 - accuracy: 0.6000 - 18ms/epoch - 18ms/step\n",
            "Epoch 16/50\n",
            "1/1 - 0s - loss: 1.3843 - accuracy: 0.7000 - 23ms/epoch - 23ms/step\n",
            "Epoch 17/50\n",
            "1/1 - 0s - loss: 1.3416 - accuracy: 0.7000 - 14ms/epoch - 14ms/step\n",
            "Epoch 18/50\n",
            "1/1 - 0s - loss: 1.2987 - accuracy: 0.7000 - 14ms/epoch - 14ms/step\n",
            "Epoch 19/50\n",
            "1/1 - 0s - loss: 1.2558 - accuracy: 0.7000 - 13ms/epoch - 13ms/step\n",
            "Epoch 20/50\n",
            "1/1 - 0s - loss: 1.2140 - accuracy: 0.7000 - 14ms/epoch - 14ms/step\n",
            "Epoch 21/50\n",
            "1/1 - 0s - loss: 1.1740 - accuracy: 0.7000 - 14ms/epoch - 14ms/step\n",
            "Epoch 22/50\n",
            "1/1 - 0s - loss: 1.1350 - accuracy: 0.7000 - 29ms/epoch - 29ms/step\n",
            "Epoch 23/50\n",
            "1/1 - 0s - loss: 1.0951 - accuracy: 0.7000 - 19ms/epoch - 19ms/step\n",
            "Epoch 24/50\n",
            "1/1 - 0s - loss: 1.0535 - accuracy: 0.7000 - 21ms/epoch - 21ms/step\n",
            "Epoch 25/50\n",
            "1/1 - 0s - loss: 1.0110 - accuracy: 0.7000 - 14ms/epoch - 14ms/step\n",
            "Epoch 26/50\n",
            "1/1 - 0s - loss: 0.9690 - accuracy: 0.7000 - 14ms/epoch - 14ms/step\n",
            "Epoch 27/50\n",
            "1/1 - 0s - loss: 0.9280 - accuracy: 0.8000 - 13ms/epoch - 13ms/step\n",
            "Epoch 28/50\n",
            "1/1 - 0s - loss: 0.8878 - accuracy: 0.8000 - 13ms/epoch - 13ms/step\n",
            "Epoch 29/50\n",
            "1/1 - 0s - loss: 0.8487 - accuracy: 0.8000 - 13ms/epoch - 13ms/step\n",
            "Epoch 30/50\n",
            "1/1 - 0s - loss: 0.8113 - accuracy: 0.8000 - 14ms/epoch - 14ms/step\n",
            "Epoch 31/50\n",
            "1/1 - 0s - loss: 0.7763 - accuracy: 0.8000 - 13ms/epoch - 13ms/step\n",
            "Epoch 32/50\n",
            "1/1 - 0s - loss: 0.7439 - accuracy: 0.8000 - 36ms/epoch - 36ms/step\n",
            "Epoch 33/50\n",
            "1/1 - 0s - loss: 0.7139 - accuracy: 0.8000 - 17ms/epoch - 17ms/step\n",
            "Epoch 34/50\n",
            "1/1 - 0s - loss: 0.6860 - accuracy: 0.8000 - 16ms/epoch - 16ms/step\n",
            "Epoch 35/50\n",
            "1/1 - 0s - loss: 0.6600 - accuracy: 0.8000 - 15ms/epoch - 15ms/step\n",
            "Epoch 36/50\n",
            "1/1 - 0s - loss: 0.6358 - accuracy: 0.8000 - 15ms/epoch - 15ms/step\n",
            "Epoch 37/50\n",
            "1/1 - 0s - loss: 0.6133 - accuracy: 0.8000 - 17ms/epoch - 17ms/step\n",
            "Epoch 38/50\n",
            "1/1 - 0s - loss: 0.5925 - accuracy: 0.8000 - 21ms/epoch - 21ms/step\n",
            "Epoch 39/50\n",
            "1/1 - 0s - loss: 0.5730 - accuracy: 0.8000 - 15ms/epoch - 15ms/step\n",
            "Epoch 40/50\n",
            "1/1 - 0s - loss: 0.5545 - accuracy: 0.8000 - 15ms/epoch - 15ms/step\n",
            "Epoch 41/50\n",
            "1/1 - 0s - loss: 0.5372 - accuracy: 0.8000 - 14ms/epoch - 14ms/step\n",
            "Epoch 42/50\n",
            "1/1 - 0s - loss: 0.5212 - accuracy: 0.8000 - 14ms/epoch - 14ms/step\n",
            "Epoch 43/50\n",
            "1/1 - 0s - loss: 0.5065 - accuracy: 0.8000 - 14ms/epoch - 14ms/step\n",
            "Epoch 44/50\n",
            "1/1 - 0s - loss: 0.4925 - accuracy: 0.8000 - 16ms/epoch - 16ms/step\n",
            "Epoch 45/50\n",
            "1/1 - 0s - loss: 0.4793 - accuracy: 0.8000 - 24ms/epoch - 24ms/step\n",
            "Epoch 46/50\n",
            "1/1 - 0s - loss: 0.4668 - accuracy: 0.8000 - 22ms/epoch - 22ms/step\n",
            "Epoch 47/50\n",
            "1/1 - 0s - loss: 0.4553 - accuracy: 0.8000 - 16ms/epoch - 16ms/step\n",
            "Epoch 48/50\n",
            "1/1 - 0s - loss: 0.4445 - accuracy: 0.8000 - 15ms/epoch - 15ms/step\n",
            "Epoch 49/50\n",
            "1/1 - 0s - loss: 0.4343 - accuracy: 0.8000 - 14ms/epoch - 14ms/step\n",
            "Epoch 50/50\n",
            "1/1 - 0s - loss: 0.4246 - accuracy: 0.8000 - 15ms/epoch - 15ms/step\n"
          ]
        },
        {
          "output_type": "execute_result",
          "data": {
            "text/plain": [
              "<keras.src.callbacks.History at 0x7af5583ab6d0>"
            ]
          },
          "metadata": {},
          "execution_count": 1
        }
      ],
      "source": [
        "import numpy as np\n",
        "from keras.models import Sequential\n",
        "from keras.layers import SimpleRNN, Dense, Embedding\n",
        "from keras.preprocessing.text import Tokenizer\n",
        "from keras.preprocessing.sequence import pad_sequences\n",
        "from keras.utils import to_categorical\n",
        "\n",
        "# Generating some example sequential data\n",
        "sentences = ['I love learning','I love python','I hate school',\n",
        "             'Recurrent Neural Networks are powerful']\n",
        "# Tokenizing the words\n",
        "tokenizer = Tokenizer()\n",
        "tokenizer.fit_on_texts(sentences)\n",
        "total_words = len(tokenizer.word_index) + 1\n",
        "\n",
        "# Creating input sequences and their corresponding next words\n",
        "input_sequences = []\n",
        "for sentence in sentences:\n",
        "    tokenized_sentence = tokenizer.texts_to_sequences([sentence])[0]\n",
        "    for i in range(1, len(tokenized_sentence)):\n",
        "        n_gram_sequence = tokenized_sentence[:i+1]\n",
        "        input_sequences.append(n_gram_sequence)\n",
        "\n",
        "# Padding sequences for consistent input size\n",
        "max_sequence_length = max([len(seq) for seq in input_sequences])\n",
        "input_sequences = pad_sequences(input_sequences, maxlen=max_sequence_length, padding='pre')\n",
        "\n",
        "# Creating input and output data\n",
        "X, y = input_sequences[:, :-1], input_sequences[:, -1]\n",
        "y = to_categorical(y, num_classes=total_words)\n",
        "\n",
        "# Building a simple RNN model\n",
        "model = Sequential()\n",
        "model.add(Embedding(input_dim=total_words, output_dim=50, input_length=max_sequence_length-1))\n",
        "model.add(SimpleRNN(100, return_sequences=True))\n",
        "model.add(SimpleRNN(100))\n",
        "model.add(Dense(total_words, activation='softmax'))\n",
        "\n",
        "# Compiling the model\n",
        "model.compile(optimizer='adam', loss='categorical_crossentropy', metrics=['accuracy'])\n",
        "\n",
        "# Training the model\n",
        "model.fit(X, y, epochs=50, verbose=2)\n"
      ]
    },
    {
      "cell_type": "code",
      "source": [
        "# Generating text using the trained model\n",
        "seed_text = input(\"Enter the starting word: \")\n",
        "next_words = int(input(\"Enter how many words to predict: \"))\n",
        "\n",
        "for _ in range(next_words):\n",
        "    tokenized_seed = tokenizer.texts_to_sequences([seed_text])[0]\n",
        "    tokenized_seed = pad_sequences([tokenized_seed], maxlen=max_sequence_length-1, padding='pre')\n",
        "    predicted_word_index = np.argmax(model.predict(tokenized_seed), axis=-1)\n",
        "    predicted_word = tokenizer.index_word[predicted_word_index[0]]\n",
        "    seed_text += \" \" + predicted_word\n",
        "\n",
        "print(seed_text)"
      ],
      "metadata": {
        "colab": {
          "base_uri": "https://localhost:8080/"
        },
        "id": "A5hPBaOpRLnu",
        "outputId": "36093edd-b1e2-4420-878d-4ad755939f34"
      },
      "execution_count": 3,
      "outputs": [
        {
          "output_type": "stream",
          "name": "stdout",
          "text": [
            "Enter the starting word: 2\n",
            "Enter how many words to predict: 1\n",
            "1/1 [==============================] - 0s 456ms/step\n",
            "2 love\n"
          ]
        }
      ]
    }
  ]
}